{
 "cells": [
  {
   "cell_type": "code",
   "execution_count": 1,
   "metadata": {},
   "outputs": [],
   "source": [
    "import asyncio\n",
    "import nest_asyncio\n",
    "from dotenv import load_dotenv\n",
    "\n",
    "load_dotenv()\n",
    "\n",
    "nest_asyncio.apply()\n"
   ]
  },
  {
   "cell_type": "code",
   "execution_count": 2,
   "metadata": {},
   "outputs": [
    {
     "data": {
      "text/plain": [
       "{'auto_id': False, 'description': '', 'fields': [{'name': 'id', 'description': '', 'type': <DataType.INT64: 5>, 'is_primary': True, 'auto_id': True}, {'name': 'text', 'description': '', 'type': <DataType.VARCHAR: 21>, 'params': {'max_length': 1000, 'enable_analyzer': True}}, {'name': 'sparse', 'description': '', 'type': <DataType.SPARSE_FLOAT_VECTOR: 104>}], 'enable_dynamic_field': False}"
      ]
     },
     "execution_count": 2,
     "metadata": {},
     "output_type": "execute_result"
    }
   ],
   "source": [
    "from pymilvus import DataType, FunctionType, MilvusClient\n",
    "\n",
    "client = MilvusClient(uri=\"http://localhost:19530\")\n",
    "\n",
    "schema = client.create_schema()\n",
    "\n",
    "schema.add_field(\n",
    "    field_name=\"id\", datatype=DataType.INT64, is_primary=True, auto_id=True\n",
    ")\n",
    "schema.add_field(\n",
    "    field_name=\"text\", datatype=DataType.VARCHAR, max_length=1000, enable_analyzer=True\n",
    ")\n",
    "schema.add_field(field_name=\"sparse\", datatype=DataType.SPARSE_FLOAT_VECTOR)\n"
   ]
  },
  {
   "cell_type": "code",
   "execution_count": 3,
   "metadata": {},
   "outputs": [
    {
     "data": {
      "text/plain": [
       "{'auto_id': False, 'description': '', 'fields': [{'name': 'id', 'description': '', 'type': <DataType.INT64: 5>, 'is_primary': True, 'auto_id': True}, {'name': 'text', 'description': '', 'type': <DataType.VARCHAR: 21>, 'params': {'max_length': 1000, 'enable_analyzer': True}}, {'name': 'sparse', 'description': '', 'type': <DataType.SPARSE_FLOAT_VECTOR: 104>, 'is_function_output': True}], 'enable_dynamic_field': False, 'functions': [{'name': 'text_bm25_emb', 'description': '', 'type': <FunctionType.BM25: 1>, 'input_field_names': ['text'], 'output_field_names': ['sparse'], 'params': {}}]}"
      ]
     },
     "execution_count": 3,
     "metadata": {},
     "output_type": "execute_result"
    }
   ],
   "source": [
    "from pymilvus import Function\n",
    "\n",
    "bm25_function = Function(\n",
    "    name=\"text_bm25_emb\",  # Function name\n",
    "    input_field_names=[\"text\"],  # Name of the VARCHAR field containing raw text data\n",
    "    output_field_names=[\n",
    "        \"sparse\"\n",
    "    ],  # Name of the SPARSE_FLOAT_VECTOR field reserved to store generated embeddings\n",
    "    function_type=FunctionType.BM25,\n",
    ")\n",
    "\n",
    "schema.add_function(bm25_function)\n"
   ]
  },
  {
   "cell_type": "code",
   "execution_count": 4,
   "metadata": {},
   "outputs": [
    {
     "data": {
      "text/plain": [
       "{'insert_count': 37, 'ids': [458517391730803156, 458517391730803157, 458517391730803158, 458517391730803159, 458517391730803160, 458517391730803161, 458517391730803162, 458517391730803163, 458517391730803164, 458517391730803165, 458517391730803166, 458517391730803167, 458517391730803168, 458517391730803169, 458517391730803170, 458517391730803171, 458517391730803172, 458517391730803173, 458517391730803174, 458517391730803175, 458517391730803176, 458517391730803177, 458517391730803178, 458517391730803179, 458517391730803180, 458517391730803181, 458517391730803182, 458517391730803183, 458517391730803184, 458517391730803185, 458517391730803186, 458517391730803187, 458517391730803188, 458517391730803189, 458517391730803190, 458517391730803191, 458517391730803192], 'cost': 0}"
      ]
     },
     "execution_count": 4,
     "metadata": {},
     "output_type": "execute_result"
    }
   ],
   "source": [
    "index_params = client.prepare_index_params()\n",
    "\n",
    "index_params.add_index(field_name=\"sparse\", index_type=\"AUTOINDEX\", metric_type=\"BM25\")\n",
    "\n",
    "if client.has_collection(\"demo\"):\n",
    "    client.drop_collection(\"demo\")\n",
    "\n",
    "client.create_collection(\n",
    "    collection_name=\"demo\",\n",
    "    schema=schema,\n",
    "    index_params=index_params,\n",
    ")\n",
    "\n",
    "client.insert(\n",
    "    \"demo\",\n",
    "    [\n",
    "        {\n",
    "            \"text\": \"Information retrieval helps users find relevant documents in large datasets.\"\n",
    "        },\n",
    "        {\n",
    "            \"text\": \"Search engines use information retrieval techniques to index and rank web pages.\"\n",
    "        },\n",
    "        {\n",
    "            \"text\": \"The core of IR is matching user queries with the most relevant content.\"\n",
    "        },\n",
    "        {\n",
    "            \"text\": \"Vector search is revolutionising modern information retrieval systems.\"\n",
    "        },\n",
    "        {\n",
    "            \"text\": \"Machine learning improves ranking algorithms in information retrieval.\"\n",
    "        },\n",
    "        {\n",
    "            \"text\": \"IR techniques include keyword-based search, semantic search, and vector search.\"\n",
    "        },\n",
    "        {\n",
    "            \"text\": \"Boolean retrieval is one of the earliest information retrieval methods.\"\n",
    "        },\n",
    "        {\"text\": \"TF-IDF is a classic method used to score document relevance in IR.\"},\n",
    "        {\n",
    "            \"text\": \"Modern IR systems integrate deep learning for better contextual understanding.\"\n",
    "        },\n",
    "        {\n",
    "            \"text\": \"Milvus is an open-source vector database designed for AI-powered search.\"\n",
    "        },\n",
    "        {\n",
    "            \"text\": \"Milvus enables fast and scalable similarity search on high-dimensional data.\"\n",
    "        },\n",
    "        {\n",
    "            \"text\": \"With Milvus, developers can build applications that support image, text, and video retrieval.\"\n",
    "        },\n",
    "        {\n",
    "            \"text\": \"Milvus integrates well with deep learning frameworks like PyTorch and TensorFlow.\"\n",
    "        },\n",
    "        {\n",
    "            \"text\": \"The core of Milvus is optimised for approximate nearest neighbour (ANN) search.\"\n",
    "        },\n",
    "        {\n",
    "            \"text\": \"Milvus supports hybrid search combining structured and unstructured data.\"\n",
    "        },\n",
    "        {\n",
    "            \"text\": \"Large-scale AI applications rely on Milvus for efficient vector retrieval.\"\n",
    "        },\n",
    "        {\"text\": \"Milvus makes it easy to perform high-speed similarity searches.\"},\n",
    "        {\"text\": \"Cloud-native by design, Milvus scales effortlessly with demand.\"},\n",
    "        {\n",
    "            \"text\": \"Milvus powers applications in recommendation systems, fraud detection, and genomics.\"\n",
    "        },\n",
    "        {\n",
    "            \"text\": \"The latest version of Milvus introduces faster indexing and lower latency.\"\n",
    "        },\n",
    "        {\"text\": \"Milvus supports HNSW, IVF_FLAT, and other popular ANN algorithms.\"},\n",
    "        {\n",
    "            \"text\": \"Vector embeddings from models like OpenAI’s CLIP can be indexed in Milvus.\"\n",
    "        },\n",
    "        {\n",
    "            \"text\": \"Milvus has built-in support for multi-tenancy in enterprise use cases.\"\n",
    "        },\n",
    "        {\n",
    "            \"text\": \"The Milvus community actively contributes to improving its performance.\"\n",
    "        },\n",
    "        {\n",
    "            \"text\": \"Milvus integrates with data pipelines like Apache Kafka for real-time updates.\"\n",
    "        },\n",
    "        {\n",
    "            \"text\": \"Using Milvus, companies can enhance search experiences with vector search.\"\n",
    "        },\n",
    "        {\n",
    "            \"text\": \"Milvus plays a crucial role in powering AI search in medical research.\"\n",
    "        },\n",
    "        {\"text\": \"Milvus integrates with LangChain for advanced RAG pipelines.\"},\n",
    "        {\n",
    "            \"text\": \"Open-source contributors continue to enhance Milvus’ search performance.\"\n",
    "        },\n",
    "        {\n",
    "            \"text\": \"Multi-modal search in Milvus enables applications beyond text and images.\"\n",
    "        },\n",
    "        {\"text\": \"Milvus has an intuitive REST API for easy integration.\"},\n",
    "        {\"text\": \"Milvus’ FAISS and HNSW backends provide flexibility in indexing.\"},\n",
    "        {\n",
    "            \"text\": \"The architecture of Milvus ensures fault tolerance and high availability.\"\n",
    "        },\n",
    "        {\"text\": \"Milvus integrates seamlessly with LLM-based applications.\"},\n",
    "        {\"text\": \"Startups leverage Milvus to build next-gen AI-powered products.\"},\n",
    "        {\"text\": \"Milvus Cloud offers a managed solution for vector search at scale.\"},\n",
    "        {\n",
    "            \"text\": \"The future of AI search is being shaped by Milvus and similar vector databases.\"\n",
    "        },\n",
    "    ],\n",
    ")\n"
   ]
  }
 ],
 "metadata": {
  "kernelspec": {
   "display_name": "llm",
   "language": "python",
   "name": "python3"
  },
  "language_info": {
   "codemirror_mode": {
    "name": "ipython",
    "version": 3
   },
   "file_extension": ".py",
   "mimetype": "text/x-python",
   "name": "python",
   "nbconvert_exporter": "python",
   "pygments_lexer": "ipython3",
   "version": "3.11.7"
  }
 },
 "nbformat": 4,
 "nbformat_minor": 2
}
